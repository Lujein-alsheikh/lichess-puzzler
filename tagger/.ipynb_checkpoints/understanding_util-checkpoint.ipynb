{
 "cells": [
  {
   "cell_type": "code",
   "execution_count": 2,
   "id": "791a13a3-abff-404b-8bc7-03c3a8c90785",
   "metadata": {},
   "outputs": [],
   "source": []
  },
  {
   "cell_type": "markdown",
   "id": "54c7af61-5b11-4653-9abf-63f93351ae8f",
   "metadata": {},
   "source": [
    "#### pp"
   ]
  },
  {
   "cell_type": "code",
   "execution_count": 3,
   "id": "c76b4776-155f-425b-a154-24aa4f233918",
   "metadata": {},
   "outputs": [],
   "source": [
    "A = TypeVar('A')\n",
    "def pp(a: A, msg = None) -> A:\n",
    "    print(f'{msg + \": \" if msg else \"\"}{a}')\n",
    "    return a"
   ]
  },
  {
   "cell_type": "markdown",
   "id": "255cbd84-fc06-4460-91c2-5a6763a566c0",
   "metadata": {},
   "source": []
  },
  {
   "cell_type": "markdown",
   "id": "c38391d0-1ce3-4a01-86ca-21d9ed1edd33",
   "metadata": {},
   "source": [
    "#### moved_piece_type"
   ]
  },
  {
   "cell_type": "code",
   "execution_count": 4,
   "id": "25da3375-1fb5-471d-8607-108e9aa06886",
   "metadata": {},
   "outputs": [],
   "source": []
  },
  {
   "cell_type": "code",
   "execution_count": null,
   "id": "bd21bf1f-a9aa-4151-8ff7-0f7a56390771",
   "metadata": {},
   "outputs": [],
   "source": []
  }
 ],
 "metadata": {
  "kernelspec": {
   "display_name": "Python 3 (ipykernel)",
   "language": "python",
   "name": "python3"
  },
  "language_info": {
   "codemirror_mode": {
    "name": "ipython",
    "version": 3
   },
   "file_extension": ".py",
   "mimetype": "text/x-python",
   "name": "python",
   "nbconvert_exporter": "python",
   "pygments_lexer": "ipython3",
   "version": "3.11.5"
  }
 },
 "nbformat": 4,
 "nbformat_minor": 5
}
